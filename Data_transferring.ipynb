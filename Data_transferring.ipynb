{
 "cells": [
  {
   "cell_type": "code",
   "execution_count": 1,
   "metadata": {},
   "outputs": [],
   "source": [
    "#Importing 3 libraries, tqdm to check status of the for loop.\n",
    "# shutil to copy files.\n",
    "# os to work on file paths\n",
    "\n",
    "from tqdm import tqdm\n",
    "import os\n",
    "import shutil"
   ]
  },
  {
   "cell_type": "code",
   "execution_count": 44,
   "metadata": {},
   "outputs": [
    {
     "name": "stdout",
     "output_type": "stream",
     "text": [
      "File name: trainlist01.txt   Lines of data: 9537 \n"
     ]
    }
   ],
   "source": [
    "#creating a list of all file names present in \"trainlist01.txt\"\n",
    "\n",
    "textFileList = \"trainlist01.txt\"        #You need to check this file name as required.\n",
    "saveDestination = \"Train_Dataset\"\n",
    "\n",
    "txtFile = open(textFileList,\"r\")\n",
    "dataList = []\n",
    "for i in txtFile:\n",
    "    dataList.append(i.strip(\"\\n\").split(\" \")[0])\n",
    "print(\"File name: {}   Lines of data: {} \".format(textFileList, len(dataList)))"
   ]
  },
  {
   "cell_type": "code",
   "execution_count": 65,
   "metadata": {
    "collapsed": true
   },
   "outputs": [
    {
     "name": "stdout",
     "output_type": "stream",
     "text": [
      "Train_Dataset\\ApplyEyeMakeup  already present\n",
      "Train_Dataset\\ApplyLipstick  already present\n",
      "Train_Dataset\\Archery  already present\n",
      "Train_Dataset\\BabyCrawling  already present\n",
      "Train_Dataset\\BalanceBeam  already present\n",
      "Train_Dataset\\BandMarching  already present\n",
      "Train_Dataset\\BaseballPitch  already present\n",
      "Train_Dataset\\Basketball  already present\n",
      "Train_Dataset\\BasketballDunk  already present\n",
      "Train_Dataset\\BenchPress  already present\n",
      "Train_Dataset\\Biking  already present\n",
      "Train_Dataset\\Billiards  already present\n",
      "Train_Dataset\\BlowDryHair  already present\n",
      "Train_Dataset\\BlowingCandles  already present\n",
      "Train_Dataset\\BodyWeightSquats  already present\n",
      "Train_Dataset\\Bowling  already present\n",
      "Train_Dataset\\BoxingPunchingBag  already present\n",
      "Train_Dataset\\BoxingSpeedBag  already present\n",
      "Train_Dataset\\BreastStroke  already present\n",
      "Train_Dataset\\BrushingTeeth  already present\n",
      "Train_Dataset\\CleanAndJerk  already present\n",
      "Train_Dataset\\CliffDiving  already present\n",
      "Train_Dataset\\CricketBowling  already present\n",
      "Train_Dataset\\CricketShot  already present\n",
      "Train_Dataset\\CuttingInKitchen  already present\n",
      "Train_Dataset\\Diving  already present\n",
      "Train_Dataset\\Drumming  already present\n",
      "Train_Dataset\\Fencing  already present\n",
      "Train_Dataset\\FieldHockeyPenalty  already present\n",
      "Train_Dataset\\FloorGymnastics  already present\n",
      "Train_Dataset\\FrisbeeCatch  already present\n",
      "Train_Dataset\\FrontCrawl  already present\n",
      "Train_Dataset\\GolfSwing  already present\n",
      "Train_Dataset\\Haircut  already present\n",
      "Train_Dataset\\Hammering  already present\n",
      "Train_Dataset\\HammerThrow  already present\n",
      "Train_Dataset\\HandstandPushups  already present\n",
      "Train_Dataset\\HandstandWalking  already present\n",
      "Train_Dataset\\HeadMassage  already present\n",
      "Train_Dataset\\HighJump  already present\n",
      "Train_Dataset\\HorseRace  already present\n",
      "Train_Dataset\\HorseRiding  already present\n",
      "Train_Dataset\\HulaHoop  already present\n",
      "Train_Dataset\\IceDancing  already present\n",
      "Train_Dataset\\JavelinThrow  already present\n",
      "Train_Dataset\\JugglingBalls  already present\n",
      "Train_Dataset\\JumpingJack  already present\n",
      "Train_Dataset\\JumpRope  already present\n",
      "Train_Dataset\\Kayaking  already present\n",
      "Train_Dataset\\Knitting  already present\n",
      "Train_Dataset\\LongJump  already present\n",
      "Train_Dataset\\Lunges  already present\n",
      "Train_Dataset\\MilitaryParade  already present\n",
      "Train_Dataset\\Mixing  already present\n",
      "Train_Dataset\\MoppingFloor  already present\n",
      "Train_Dataset\\Nunchucks  already present\n",
      "Train_Dataset\\ParallelBars  already present\n",
      "Train_Dataset\\PizzaTossing  already present\n",
      "Train_Dataset\\PlayingCello  already present\n",
      "Train_Dataset\\PlayingDaf  already present\n",
      "Train_Dataset\\PlayingDhol  already present\n",
      "Train_Dataset\\PlayingFlute  already present\n",
      "Train_Dataset\\PlayingGuitar  already present\n",
      "Train_Dataset\\PlayingPiano  already present\n",
      "Train_Dataset\\PlayingSitar  already present\n",
      "Train_Dataset\\PlayingTabla  already present\n",
      "Train_Dataset\\PlayingViolin  already present\n",
      "Train_Dataset\\PoleVault  already present\n",
      "Train_Dataset\\PommelHorse  already present\n",
      "Train_Dataset\\PullUps  already present\n",
      "Train_Dataset\\Punch  already present\n",
      "Train_Dataset\\PushUps  already present\n",
      "Train_Dataset\\Rafting  already present\n",
      "Train_Dataset\\RockClimbingIndoor  already present\n",
      "Train_Dataset\\RopeClimbing  already present\n",
      "Train_Dataset\\Rowing  already present\n",
      "Train_Dataset\\SalsaSpin  already present\n",
      "Train_Dataset\\ShavingBeard  already present\n",
      "Train_Dataset\\Shotput  already present\n",
      "Train_Dataset\\SkateBoarding  already present\n",
      "Train_Dataset\\Skiing  already present\n",
      "Train_Dataset\\Skijet  already present\n",
      "Train_Dataset\\SkyDiving  already present\n",
      "Train_Dataset\\SoccerJuggling  already present\n",
      "Train_Dataset\\SoccerPenalty  already present\n",
      "Train_Dataset\\StillRings  already present\n",
      "Train_Dataset\\SumoWrestling  already present\n",
      "Train_Dataset\\Surfing  already present\n",
      "Train_Dataset\\Swing  already present\n",
      "Train_Dataset\\TableTennisShot  already present\n",
      "Train_Dataset\\TaiChi  already present\n",
      "Train_Dataset\\TennisSwing  already present\n",
      "Train_Dataset\\ThrowDiscus  already present\n",
      "Train_Dataset\\TrampolineJumping  already present\n",
      "Train_Dataset\\Typing  already present\n",
      "Train_Dataset\\UnevenBars  already present\n",
      "Train_Dataset\\VolleyballSpiking  already present\n",
      "Train_Dataset\\WalkingWithDog  already present\n",
      "Train_Dataset\\WallPushups  already present\n",
      "Train_Dataset\\WritingOnBoard  already present\n",
      "Train_Dataset\\YoYo  already present\n"
     ]
    }
   ],
   "source": [
    "#creating folders inside the \"Train_Dataset\" directory.\n",
    "#All folders are created whose names are present in classInd.txt\"\n",
    "\n",
    "textFileList = \"classInd.txt\"\n",
    "\n",
    "txtFile = open(textFileList,\"r\")\n",
    "folderList = []\n",
    "for i in txtFile:\n",
    "    a = i.strip(\"\\n\").split(\" \")[1]\n",
    "    if not os.path.exists(os.path.join(saveDestination, a)):\n",
    "        os.makedirs(os.path.join(saveDestination, a))\n",
    "    else: \n",
    "        print(os.path.join(saveDestination, a), \" already present\")"
   ]
  },
  {
   "cell_type": "code",
   "execution_count": 67,
   "metadata": {},
   "outputs": [
    {
     "data": {
      "text/plain": [
       "['v_ApplyEyeMakeup_g01_c01.avi',\n",
       " 'v_ApplyEyeMakeup_g01_c02.avi',\n",
       " 'v_ApplyEyeMakeup_g01_c03.avi',\n",
       " 'v_ApplyEyeMakeup_g01_c04.avi',\n",
       " 'v_ApplyEyeMakeup_g01_c05.avi']"
      ]
     },
     "execution_count": 67,
     "metadata": {},
     "output_type": "execute_result"
    }
   ],
   "source": [
    "#Creating a list of all files names which is present in the downloaded folder.\n",
    "\n",
    "mypath = \"UCF-101\"\n",
    "File_name_2 = []\n",
    "Orig_path_name = []\n",
    "for (dirpath, dirnames, filenames) in os.walk(mypath):\n",
    "    File_name_2.extend(filenames)\n",
    "File_name_2[0:5]"
   ]
  },
  {
   "cell_type": "code",
   "execution_count": 68,
   "metadata": {},
   "outputs": [
    {
     "data": {
      "text/plain": [
       "['UCF-101\\\\ApplyEyeMakeup\\\\v_ApplyEyeMakeup_g01_c01.avi',\n",
       " 'UCF-101\\\\ApplyEyeMakeup\\\\v_ApplyEyeMakeup_g01_c02.avi',\n",
       " 'UCF-101\\\\ApplyEyeMakeup\\\\v_ApplyEyeMakeup_g01_c03.avi',\n",
       " 'UCF-101\\\\ApplyEyeMakeup\\\\v_ApplyEyeMakeup_g01_c04.avi',\n",
       " 'UCF-101\\\\ApplyEyeMakeup\\\\v_ApplyEyeMakeup_g01_c05.avi']"
      ]
     },
     "execution_count": 68,
     "metadata": {},
     "output_type": "execute_result"
    }
   ],
   "source": [
    "#Creating a list of file's path names which is present in the downloaded folder.\n",
    "#This list contains the source location to copy files.\n",
    "\n",
    "for path, subdirs, files in os.walk(mypath):\n",
    "    for name in files:\n",
    "        Orig_path_name.append(os.path.join(path, name))\n",
    "Orig_path_name[0:5]"
   ]
  },
  {
   "cell_type": "code",
   "execution_count": 54,
   "metadata": {},
   "outputs": [
    {
     "name": "stderr",
     "output_type": "stream",
     "text": [
      "100%|██████████████████████████████████████████████████████████████████████████████| 9537/9537 [07:51<00:00, 20.22it/s]\n"
     ]
    }
   ],
   "source": [
    "#I itterated through the dataList prepared in cell 2.\n",
    "#For every item in list, I checked whether this file name is present in the list prepared by cell 4.\n",
    "#Now if its present then, I collected its index value in the list.\n",
    "#I used this index to refer my source location.\n",
    "#Destination folder was extracted from Folder_name , File_name = os.path.split(i)\n",
    "#shutil.copy() does the work of copying the file to the destination folder.\n",
    "\n",
    "for i in tqdm(dataList):\n",
    "    Folder_name , File_name = os.path.split(i)\n",
    "\n",
    "    if File_name in File_name_2:\n",
    "        index = File_name_2.index(File_name)\n",
    "        shutil.copy(Orig_path_name[index], os.path.join(saveDestination, Folder_name))"
   ]
  }
 ],
 "metadata": {
  "kernelspec": {
   "display_name": "Python 3",
   "language": "python",
   "name": "python3"
  },
  "language_info": {
   "codemirror_mode": {
    "name": "ipython",
    "version": 3
   },
   "file_extension": ".py",
   "mimetype": "text/x-python",
   "name": "python",
   "nbconvert_exporter": "python",
   "pygments_lexer": "ipython3",
   "version": "3.7.3"
  }
 },
 "nbformat": 4,
 "nbformat_minor": 4
}
